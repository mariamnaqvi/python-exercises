{
 "cells": [
  {
   "cell_type": "code",
   "execution_count": 1,
   "metadata": {},
   "outputs": [
    {
     "name": "stdout",
     "output_type": "stream",
     "text": [
      "Exercise 1 is correct\n",
      "Exercise 2 is correct\n",
      "Exercise 3 is correct\n",
      "Exercise 4 is correct\n",
      "Exercise 5 is correct\n",
      "Exercise 6 is correct\n",
      "Exercise 7 is correct\n",
      "Exercise 8 is correct\n",
      "Exercise 9 is correct\n",
      "Exercise 10 is correct\n",
      "B\n"
     ]
    }
   ],
   "source": [
    "from function_exercises import get_letter_grade\n",
    "print(get_letter_grade(87))"
   ]
  },
  {
   "cell_type": "code",
   "execution_count": null,
   "metadata": {},
   "outputs": [],
   "source": []
  }
 ],
 "metadata": {
  "kernelspec": {
   "display_name": "Python 3",
   "language": "python",
   "name": "python3"
  },
  "language_info": {
   "codemirror_mode": {
    "name": "ipython",
    "version": 3
   },
   "file_extension": ".py",
   "mimetype": "text/x-python",
   "name": "python",
   "nbconvert_exporter": "python",
   "pygments_lexer": "ipython3",
   "version": "3.8.5"
  }
 },
 "nbformat": 4,
 "nbformat_minor": 4
}
